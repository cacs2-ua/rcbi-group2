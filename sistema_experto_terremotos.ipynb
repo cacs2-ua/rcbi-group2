{
 "cells": [
  {
   "cell_type": "code",
   "execution_count": null,
   "id": "a116add3",
   "metadata": {
    "vscode": {
     "languageId": "plaintext"
    }
   },
   "outputs": [],
   "source": [
    "!pip install scikit-fuzzy"
   ]
  },
  {
   "cell_type": "code",
   "execution_count": null,
   "id": "e6d044d5",
   "metadata": {
    "vscode": {
     "languageId": "plaintext"
    }
   },
   "outputs": [],
   "source": [
    "# ===========================================\n",
    "# SISTEMA EXPERTO DIFUSO - DETECCIÓN DE TERREMOTOS\n",
    "# Modelo Mamdani implementado con scikit-fuzzy\n",
    "# ===========================================\n",
    "\n",
    "import numpy as np\n",
    "import skfuzzy as fuzz\n",
    "from skfuzzy import control as ctrl\n",
    "\n",
    "# ------------------------------------------------------\n",
    "# 1. Definición de las variables de entrada y salida\n",
    "# ------------------------------------------------------\n",
    "\n",
    "# Entradas:\n",
    "aceleracion = ctrl.Antecedent(np.arange(0, 1.1, 0.01), 'aceleracion')   # g (0–1g)\n",
    "frecuencia = ctrl.Antecedent(np.arange(0, 20.1, 0.1), 'frecuencia')      # Hz\n",
    "duracion = ctrl.Antecedent(np.arange(0, 60.1, 1), 'duracion')            # segundos\n",
    "\n",
    "# Salida:\n",
    "amenaza = ctrl.Consequent(np.arange(0, 11, 1), 'amenaza')                # 0–10 escala de riesgo\n",
    "\n",
    "# ------------------------------------------------------\n",
    "# 2. Definición de las funciones de pertenencia\n",
    "# ------------------------------------------------------\n",
    "\n",
    "# Aceleración (g)\n",
    "aceleracion['baja'] = fuzz.trimf(aceleracion.universe, [0, 0, 0.3])\n",
    "aceleracion['media'] = fuzz.trimf(aceleracion.universe, [0.2, 0.5, 0.8])\n",
    "aceleracion['alta'] = fuzz.trimf(aceleracion.universe, [0.6, 1, 1])\n",
    "\n",
    "# Frecuencia (Hz)\n",
    "frecuencia['baja'] = fuzz.trapmf(frecuencia.universe, [0, 0, 2, 5])\n",
    "frecuencia['media'] = fuzz.trapmf(frecuencia.universe, [3, 6, 10, 13])\n",
    "frecuencia['alta'] = fuzz.trapmf(frecuencia.universe, [11, 15, 20, 20])\n",
    "\n",
    "# Duración (s)\n",
    "duracion['corta'] = fuzz.trimf(duracion.universe, [0, 0, 10])\n",
    "duracion['media'] = fuzz.trimf(duracion.universe, [5, 20, 35])\n",
    "duracion['larga'] = fuzz.trimf(duracion.universe, [30, 60, 60])\n",
    "\n",
    "# Amenaza sísmica (0–10)\n",
    "amenaza['sin_actividad'] = fuzz.trimf(amenaza.universe, [0, 0, 2])\n",
    "amenaza['microtemblor'] = fuzz.trimf(amenaza.universe, [1, 3, 5])\n",
    "amenaza['leve'] = fuzz.trimf(amenaza.universe, [4, 5, 6])\n",
    "amenaza['moderado'] = fuzz.trimf(amenaza.universe, [5, 7, 8])\n",
    "amenaza['fuerte'] = fuzz.trimf(amenaza.universe, [7, 9, 10])\n",
    "amenaza['destructivo'] = fuzz.trimf(amenaza.universe, [9, 10, 10])\n",
    "\n",
    "# ------------------------------------------------------\n",
    "# 3. Definición de las reglas difusas\n",
    "# ------------------------------------------------------\n",
    "\n",
    "rule1 = ctrl.Rule(aceleracion['baja'] & frecuencia['alta'] & duracion['corta'], amenaza['sin_actividad'])\n",
    "rule2 = ctrl.Rule(aceleracion['media'] & frecuencia['media'] & duracion['media'], amenaza['leve'])\n",
    "rule3 = ctrl.Rule(aceleracion['alta'] & frecuencia['baja'] & duracion['larga'], amenaza['fuerte'])\n",
    "rule4 = ctrl.Rule(aceleracion['alta'] & frecuencia['baja'] & duracion['media'], amenaza['moderado'])\n",
    "rule5 = ctrl.Rule(aceleracion['media'] & frecuencia['baja'] & duracion['larga'], amenaza['moderado'])\n",
    "rule6 = ctrl.Rule(aceleracion['alta'] & frecuencia['baja'] & duracion['larga'], amenaza['destructivo'])\n",
    "rule7 = ctrl.Rule(aceleracion['baja'] & frecuencia['media'] & duracion['corta'], amenaza['microtemblor'])\n",
    "\n",
    "# ------------------------------------------------------\n",
    "# 4. Creación del sistema de control difuso\n",
    "# ------------------------------------------------------\n",
    "\n",
    "control_sismo = ctrl.ControlSystem([rule1, rule2, rule3, rule4, rule5, rule6, rule7])\n",
    "simulador = ctrl.ControlSystemSimulation(control_sismo)\n",
    "\n",
    "# ------------------------------------------------------\n",
    "# 5. Ejemplo de simulación\n",
    "# ------------------------------------------------------\n",
    "\n",
    "# === Entrada de datos (en Colab) ===\n",
    "valor_acel = float(input(\"Ingrese la aceleración del terreno (g, 0–1): \"))\n",
    "valor_freq = float(input(\"Ingrese la frecuencia dominante (Hz, 0–20): \"))\n",
    "valor_dur = float(input(\"Ingrese la duración del evento (s, 0–60): \"))\n",
    "\n",
    "# Asignar y calcular\n",
    "simulador.input['aceleracion'] = valor_acel\n",
    "simulador.input['frecuencia'] = valor_freq\n",
    "simulador.input['duracion'] = valor_dur\n",
    "simulador.compute()\n",
    "\n",
    "print(f\"\\n🔍 Nivel de amenaza sísmica: {simulador.output['amenaza']:.2f} / 10\")\n",
    "\n",
    "# ------------------------------------------------------\n",
    "# 6. Visualización opcional de las funciones\n",
    "# ------------------------------------------------------\n",
    "aceleracion.view()\n",
    "frecuencia.view()\n",
    "duracion.view()\n",
    "amenaza.view(simulador)\n"
   ]
  }
 ],
 "metadata": {
  "language_info": {
   "name": "python"
  }
 },
 "nbformat": 4,
 "nbformat_minor": 5
}
